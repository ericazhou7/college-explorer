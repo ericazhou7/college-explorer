{
 "cells": [
  {
   "cell_type": "code",
   "execution_count": 1,
   "metadata": {},
   "outputs": [],
   "source": [
    "import numpy as np\n",
    "import pandas as pd\n",
    "\n",
    "from sklearn.linear_model import LinearRegression "
   ]
  },
  {
   "cell_type": "code",
   "execution_count": 2,
   "metadata": {},
   "outputs": [],
   "source": [
    "df = pd.read_csv('PPMI_Baseline_Data_02Jul2018.csv')"
   ]
  },
  {
   "cell_type": "code",
   "execution_count": 4,
   "metadata": {},
   "outputs": [
    {
     "data": {
      "text/plain": [
       "(683, 135)"
      ]
     },
     "execution_count": 4,
     "metadata": {},
     "output_type": "execute_result"
    }
   ],
   "source": [
    "df.shape"
   ]
  },
  {
   "cell_type": "code",
   "execution_count": 5,
   "metadata": {},
   "outputs": [
    {
     "data": {
      "text/html": [
       "<div>\n",
       "<style scoped>\n",
       "    .dataframe tbody tr th:only-of-type {\n",
       "        vertical-align: middle;\n",
       "    }\n",
       "\n",
       "    .dataframe tbody tr th {\n",
       "        vertical-align: top;\n",
       "    }\n",
       "\n",
       "    .dataframe thead th {\n",
       "        text-align: right;\n",
       "    }\n",
       "</style>\n",
       "<table border=\"1\" class=\"dataframe\">\n",
       "  <thead>\n",
       "    <tr style=\"text-align: right;\">\n",
       "      <th></th>\n",
       "      <th>SITE</th>\n",
       "      <th>PATNO</th>\n",
       "      <th>APPRDX</th>\n",
       "      <th>EVENT_ID</th>\n",
       "      <th>age</th>\n",
       "      <th>age_cat</th>\n",
       "      <th>gen</th>\n",
       "      <th>EDUCYRS</th>\n",
       "      <th>educ</th>\n",
       "      <th>HISPLAT</th>\n",
       "      <th>...</th>\n",
       "      <th>hemohi</th>\n",
       "      <th>urate</th>\n",
       "      <th>APOE</th>\n",
       "      <th>SNCA_rs356181</th>\n",
       "      <th>SNCA_rs3910105</th>\n",
       "      <th>APOE_e4</th>\n",
       "      <th>SNCA_rs356181_cat</th>\n",
       "      <th>SNCA_rs3910105_cat</th>\n",
       "      <th>MAPT</th>\n",
       "      <th>MAPT_cat</th>\n",
       "    </tr>\n",
       "  </thead>\n",
       "  <tbody>\n",
       "    <tr>\n",
       "      <th>0</th>\n",
       "      <td>10</td>\n",
       "      <td>3000</td>\n",
       "      <td>2</td>\n",
       "      <td>BL</td>\n",
       "      <td>69.1397</td>\n",
       "      <td>3</td>\n",
       "      <td>2</td>\n",
       "      <td>18</td>\n",
       "      <td>2</td>\n",
       "      <td>2</td>\n",
       "      <td>...</td>\n",
       "      <td>1</td>\n",
       "      <td>315</td>\n",
       "      <td>e3/e3</td>\n",
       "      <td>T/T</td>\n",
       "      <td>C/C</td>\n",
       "      <td>0</td>\n",
       "      <td>3</td>\n",
       "      <td>1</td>\n",
       "      <td>H1/H2</td>\n",
       "      <td>2</td>\n",
       "    </tr>\n",
       "    <tr>\n",
       "      <th>1</th>\n",
       "      <td>10</td>\n",
       "      <td>3001</td>\n",
       "      <td>1</td>\n",
       "      <td>BL</td>\n",
       "      <td>65.1425</td>\n",
       "      <td>2</td>\n",
       "      <td>1</td>\n",
       "      <td>16</td>\n",
       "      <td>2</td>\n",
       "      <td>2</td>\n",
       "      <td>...</td>\n",
       "      <td>0</td>\n",
       "      <td>268</td>\n",
       "      <td>e3/e3</td>\n",
       "      <td>C/C</td>\n",
       "      <td>C/T</td>\n",
       "      <td>0</td>\n",
       "      <td>1</td>\n",
       "      <td>2</td>\n",
       "      <td>H1/H2</td>\n",
       "      <td>2</td>\n",
       "    </tr>\n",
       "    <tr>\n",
       "      <th>2</th>\n",
       "      <td>10</td>\n",
       "      <td>3002</td>\n",
       "      <td>1</td>\n",
       "      <td>BL</td>\n",
       "      <td>67.5781</td>\n",
       "      <td>3</td>\n",
       "      <td>2</td>\n",
       "      <td>16</td>\n",
       "      <td>2</td>\n",
       "      <td>2</td>\n",
       "      <td>...</td>\n",
       "      <td>0</td>\n",
       "      <td>202</td>\n",
       "      <td>e3/e3</td>\n",
       "      <td>C/T</td>\n",
       "      <td>C/T</td>\n",
       "      <td>0</td>\n",
       "      <td>2</td>\n",
       "      <td>2</td>\n",
       "      <td>H1/H1</td>\n",
       "      <td>1</td>\n",
       "    </tr>\n",
       "    <tr>\n",
       "      <th>3</th>\n",
       "      <td>10</td>\n",
       "      <td>3003</td>\n",
       "      <td>1</td>\n",
       "      <td>BL</td>\n",
       "      <td>56.7178</td>\n",
       "      <td>2</td>\n",
       "      <td>2</td>\n",
       "      <td>16</td>\n",
       "      <td>2</td>\n",
       "      <td>2</td>\n",
       "      <td>...</td>\n",
       "      <td>0</td>\n",
       "      <td>280</td>\n",
       "      <td>e4/e3</td>\n",
       "      <td>NaN</td>\n",
       "      <td>NaN</td>\n",
       "      <td>1</td>\n",
       "      <td>.</td>\n",
       "      <td>.</td>\n",
       "      <td>NaN</td>\n",
       "      <td>.</td>\n",
       "    </tr>\n",
       "    <tr>\n",
       "      <th>4</th>\n",
       "      <td>10</td>\n",
       "      <td>3004</td>\n",
       "      <td>2</td>\n",
       "      <td>BL</td>\n",
       "      <td>59.4137</td>\n",
       "      <td>2</td>\n",
       "      <td>1</td>\n",
       "      <td>16</td>\n",
       "      <td>2</td>\n",
       "      <td>2</td>\n",
       "      <td>...</td>\n",
       "      <td>0</td>\n",
       "      <td>434</td>\n",
       "      <td>e3/e2</td>\n",
       "      <td>C/T</td>\n",
       "      <td>C/C</td>\n",
       "      <td>0</td>\n",
       "      <td>2</td>\n",
       "      <td>1</td>\n",
       "      <td>H1/H2</td>\n",
       "      <td>2</td>\n",
       "    </tr>\n",
       "  </tbody>\n",
       "</table>\n",
       "<p>5 rows × 135 columns</p>\n",
       "</div>"
      ],
      "text/plain": [
       "   SITE  PATNO  APPRDX EVENT_ID      age  age_cat  gen  EDUCYRS  educ  \\\n",
       "0    10   3000       2       BL  69.1397        3    2       18     2   \n",
       "1    10   3001       1       BL  65.1425        2    1       16     2   \n",
       "2    10   3002       1       BL  67.5781        3    2       16     2   \n",
       "3    10   3003       1       BL  56.7178        2    2       16     2   \n",
       "4    10   3004       2       BL  59.4137        2    1       16     2   \n",
       "\n",
       "   HISPLAT   ...     hemohi urate   APOE SNCA_rs356181 SNCA_rs3910105 APOE_e4  \\\n",
       "0        2   ...          1   315  e3/e3           T/T            C/C       0   \n",
       "1        2   ...          0   268  e3/e3           C/C            C/T       0   \n",
       "2        2   ...          0   202  e3/e3           C/T            C/T       0   \n",
       "3        2   ...          0   280  e4/e3           NaN            NaN       1   \n",
       "4        2   ...          0   434  e3/e2           C/T            C/C       0   \n",
       "\n",
       "  SNCA_rs356181_cat SNCA_rs3910105_cat   MAPT MAPT_cat  \n",
       "0                 3                  1  H1/H2        2  \n",
       "1                 1                  2  H1/H2        2  \n",
       "2                 2                  2  H1/H1        1  \n",
       "3                 .                  .    NaN        .  \n",
       "4                 2                  1  H1/H2        2  \n",
       "\n",
       "[5 rows x 135 columns]"
      ]
     },
     "execution_count": 5,
     "metadata": {},
     "output_type": "execute_result"
    }
   ],
   "source": [
    "df.head()"
   ]
  },
  {
   "cell_type": "code",
   "execution_count": 19,
   "metadata": {},
   "outputs": [
    {
     "data": {
      "text/plain": [
       "array(['SITE', 'PATNO', 'APPRDX', 'EVENT_ID', 'age', 'age_cat', 'gen',\n",
       "       'EDUCYRS', 'educ', 'HISPLAT', 'race', 'fampd_new', 'fampd_old',\n",
       "       'duration', 'ageonset', 'agediag', 'DOMSIDE', 'symptom1',\n",
       "       'symptom2', 'symptom3', 'symptom4', 'symptom5', 'symptom5_comment',\n",
       "       'symptom6', 'hy', 'NHY', 'rigidity', 'td_pigd', 'td_pigd_old',\n",
       "       'tremor', 'updrs3_score', 'PD_MED_USE', 'MSEADLG', 'updrs1_score',\n",
       "       'NP1COG', 'NP1HALL', 'NP1DPRS', 'NP1ANXS', 'NP1APAT', 'NP1DDS',\n",
       "       'NP1FATG', 'updrs2_score', 'updrs_totscore', 'upsit', 'bjlot',\n",
       "       'ess', 'ess_cat', 'gds', 'gds_cat', 'hvlt_immediaterecall',\n",
       "       'HVLTRDLY', 'HVLTREC', 'HVLTFPRL', 'hvlt_discrimination',\n",
       "       'hvlt_retention', 'lns', 'quip_gamble', 'quip_sex', 'quip_buy',\n",
       "       'quip_eat', 'quip_hobby', 'quip_pund', 'quip_walk', 'quip',\n",
       "       'quip_any', 'rem', 'rem_cat', 'rem_q6', 'scopa_gi', 'scopa_ur',\n",
       "       'scopa_cv', 'scopa_therm', 'scopa_pm', 'scopa_sex', 'scopa',\n",
       "       'VLTANIM', 'VLTVEG', 'VLTFRUIT', 'sft', 'stai_state', 'stai_trait',\n",
       "       'stai', 'SDMTOTAL', 'moca', 'CAUDATE_R', 'CAUDATE_L', 'PUTAMEN_R',\n",
       "       'PUTAMEN_L', 'r_striatum', 'l_striatum', 'mean_caudate',\n",
       "       'mean_putamen', 'mean_striatum', 'low_caudate', 'hi_caudate',\n",
       "       'low_putamen', 'hi_putamen', 'low_striatum', 'hi_striatum',\n",
       "       'ai_caudate', 'ai_putamen', 'ai_striatum', 'l_cdr', 'r_cdr',\n",
       "       'con_striatum', 'con_caudate', 'con_putamen', 'con_cdr',\n",
       "       'ips_striatum', 'ips_caudate', 'ips_putamen', 'ips_cdr', 'abeta',\n",
       "       'asyn', 'tau', 'ptau', 'tau_ab', 'ptau_ab', 'ptau_tau', 'ab_asyn',\n",
       "       'tau_asyn', 'ptau_asyn', 'hemo', 'hemo_below', 'hemo_above',\n",
       "       'hemohi', 'urate', 'APOE', 'SNCA_rs356181', 'SNCA_rs3910105',\n",
       "       'APOE_e4', 'SNCA_rs356181_cat', 'SNCA_rs3910105_cat', 'MAPT',\n",
       "       'MAPT_cat'], dtype=object)"
      ]
     },
     "execution_count": 19,
     "metadata": {},
     "output_type": "execute_result"
    }
   ],
   "source": [
    "df.columns.values"
   ]
  },
  {
   "cell_type": "code",
   "execution_count": 8,
   "metadata": {},
   "outputs": [
    {
     "data": {
      "text/plain": [
       "array([[<matplotlib.axes._subplots.AxesSubplot object at 0x112d6a198>]],\n",
       "      dtype=object)"
      ]
     },
     "execution_count": 8,
     "metadata": {},
     "output_type": "execute_result"
    },
    {
     "data": {
      "image/png": "[encoded data removed]",
      "text/plain": [
       "<matplotlib.figure.Figure at 0x112d035c0>"
      ]
     },
     "metadata": {
      "needs_background": "light"
     },
     "output_type": "display_data"
    }
   ],
   "source": [
    "df.hist('age')"
   ]
  },
  {
   "cell_type": "code",
   "execution_count": 25,
   "metadata": {},
   "outputs": [
    {
     "data": {
      "text/plain": [
       "<matplotlib.axes._subplots.AxesSubplot at 0x111d160b8>"
      ]
     },
     "execution_count": 25,
     "metadata": {},
     "output_type": "execute_result"
    },
    {
     "data": {
      "image/png": "[encoded data removed]",
      "text/plain": [
       "<matplotlib.figure.Figure at 0x112b950b8>"
      ]
     },
     "metadata": {
      "needs_background": "light"
     },
     "output_type": "display_data"
    }
   ],
   "source": [
    "df['APOE'].value_counts().plot(kind='bar')"
   ]
  },
  {
   "cell_type": "code",
   "execution_count": 29,
   "metadata": {},
   "outputs": [
    {
     "data": {
      "text/plain": [
       "<matplotlib.axes._subplots.AxesSubplot at 0x112d6a710>"
      ]
     },
     "execution_count": 29,
     "metadata": {},
     "output_type": "execute_result"
    },
    {
     "data": {
      "image/png": "[encoded data removed]",
      "text/plain": [
       "<matplotlib.figure.Figure at 0x113ebe710>"
      ]
     },
     "metadata": {
      "needs_background": "light"
     },
     "output_type": "display_data"
    }
   ],
   "source": [
    "df['NHY'].value_counts().plot(kind='bar')"
   ]
  },
  {
   "cell_type": "code",
   "execution_count": null,
   "metadata": {},
   "outputs": [],
   "source": [
    "df[df['NHY']==0]"
   ]
  },
  {
   "cell_type": "code",
   "execution_count": 14,
   "metadata": {},
   "outputs": [
    {
     "data": {
      "text/plain": [
       "array([[<matplotlib.axes._subplots.AxesSubplot object at 0x10e88d898>]],\n",
       "      dtype=object)"
      ]
     },
     "execution_count": 14,
     "metadata": {},
     "output_type": "execute_result"
    },
    {
     "data": {
      "image/png": "[encoded data removed]",
      "text/plain": [
       "<matplotlib.figure.Figure at 0x1118c4128>"
      ]
     },
     "metadata": {
      "needs_background": "light"
     },
     "output_type": "display_data"
    }
   ],
   "source": [
    "df.hist('gen')"
   ]
  },
  {
   "cell_type": "code",
   "execution_count": 165,
   "metadata": {},
   "outputs": [
    {
     "data": {
      "text/html": [
       "<div>\n",
       "<style scoped>\n",
       "    .dataframe tbody tr th:only-of-type {\n",
       "        vertical-align: middle;\n",
       "    }\n",
       "\n",
       "    .dataframe tbody tr th {\n",
       "        vertical-align: top;\n",
       "    }\n",
       "\n",
       "    .dataframe thead th {\n",
       "        text-align: right;\n",
       "    }\n",
       "</style>\n",
       "<table border=\"1\" class=\"dataframe\">\n",
       "  <thead>\n",
       "    <tr style=\"text-align: right;\">\n",
       "      <th></th>\n",
       "      <th>age</th>\n",
       "      <th>asyn</th>\n",
       "      <th>bjlot</th>\n",
       "      <th>ess</th>\n",
       "      <th>gds</th>\n",
       "      <th>gen</th>\n",
       "      <th>hi_caudate</th>\n",
       "      <th>ips_caudate</th>\n",
       "      <th>ptau</th>\n",
       "      <th>quip</th>\n",
       "      <th>...</th>\n",
       "      <th>tremor</th>\n",
       "      <th>updrs1_score</th>\n",
       "      <th>updrs2_score</th>\n",
       "      <th>updrs3_score</th>\n",
       "      <th>updrs_totscore</th>\n",
       "      <th>upsit</th>\n",
       "      <th>urate</th>\n",
       "      <th>VLTANIM</th>\n",
       "      <th>VLTFRUIT</th>\n",
       "      <th>VLTVEG</th>\n",
       "    </tr>\n",
       "  </thead>\n",
       "  <tbody>\n",
       "    <tr>\n",
       "      <th>0</th>\n",
       "      <td>69.1397</td>\n",
       "      <td>1798.9</td>\n",
       "      <td>15</td>\n",
       "      <td>5</td>\n",
       "      <td>1</td>\n",
       "      <td>2</td>\n",
       "      <td>3.43</td>\n",
       "      <td>3.21</td>\n",
       "      <td>17.5</td>\n",
       "      <td>0</td>\n",
       "      <td>...</td>\n",
       "      <td>0</td>\n",
       "      <td>6</td>\n",
       "      <td>0</td>\n",
       "      <td>4</td>\n",
       "      <td>10</td>\n",
       "      <td>35</td>\n",
       "      <td>315</td>\n",
       "      <td>28</td>\n",
       "      <td>22</td>\n",
       "      <td>15</td>\n",
       "    </tr>\n",
       "    <tr>\n",
       "      <th>1</th>\n",
       "      <td>65.1425</td>\n",
       "      <td>1154.4</td>\n",
       "      <td>15</td>\n",
       "      <td>6</td>\n",
       "      <td>1</td>\n",
       "      <td>1</td>\n",
       "      <td>2</td>\n",
       "      <td>2</td>\n",
       "      <td>14.17</td>\n",
       "      <td>1</td>\n",
       "      <td>...</td>\n",
       "      <td>2</td>\n",
       "      <td>8</td>\n",
       "      <td>2</td>\n",
       "      <td>12</td>\n",
       "      <td>22</td>\n",
       "      <td>25</td>\n",
       "      <td>268</td>\n",
       "      <td>19</td>\n",
       "      <td>12</td>\n",
       "      <td>11</td>\n",
       "    </tr>\n",
       "    <tr>\n",
       "      <th>2</th>\n",
       "      <td>67.5781</td>\n",
       "      <td>3638.3</td>\n",
       "      <td>13</td>\n",
       "      <td>14</td>\n",
       "      <td>3</td>\n",
       "      <td>2</td>\n",
       "      <td>3.72</td>\n",
       "      <td>3.72</td>\n",
       "      <td>28.69</td>\n",
       "      <td>1</td>\n",
       "      <td>...</td>\n",
       "      <td>1</td>\n",
       "      <td>8</td>\n",
       "      <td>15</td>\n",
       "      <td>17</td>\n",
       "      <td>40</td>\n",
       "      <td>17</td>\n",
       "      <td>202</td>\n",
       "      <td>24</td>\n",
       "      <td>17</td>\n",
       "      <td>21</td>\n",
       "    </tr>\n",
       "    <tr>\n",
       "      <th>3</th>\n",
       "      <td>56.7178</td>\n",
       "      <td>654.5</td>\n",
       "      <td>13</td>\n",
       "      <td>8</td>\n",
       "      <td>1</td>\n",
       "      <td>2</td>\n",
       "      <td>3.63</td>\n",
       "      <td>3.63</td>\n",
       "      <td>9.21</td>\n",
       "      <td>0</td>\n",
       "      <td>...</td>\n",
       "      <td>3</td>\n",
       "      <td>12</td>\n",
       "      <td>6</td>\n",
       "      <td>29</td>\n",
       "      <td>47</td>\n",
       "      <td>23</td>\n",
       "      <td>280</td>\n",
       "      <td>19</td>\n",
       "      <td>13</td>\n",
       "      <td>15</td>\n",
       "    </tr>\n",
       "    <tr>\n",
       "      <th>4</th>\n",
       "      <td>59.4137</td>\n",
       "      <td>1082.1</td>\n",
       "      <td>13</td>\n",
       "      <td>6</td>\n",
       "      <td>0</td>\n",
       "      <td>1</td>\n",
       "      <td>5.3</td>\n",
       "      <td>5.195</td>\n",
       "      <td>8.77</td>\n",
       "      <td>0</td>\n",
       "      <td>...</td>\n",
       "      <td>0</td>\n",
       "      <td>2</td>\n",
       "      <td>0</td>\n",
       "      <td>2</td>\n",
       "      <td>4</td>\n",
       "      <td>36</td>\n",
       "      <td>434</td>\n",
       "      <td>33</td>\n",
       "      <td>16</td>\n",
       "      <td>16</td>\n",
       "    </tr>\n",
       "  </tbody>\n",
       "</table>\n",
       "<p>5 rows × 26 columns</p>\n",
       "</div>"
      ],
      "text/plain": [
       "       age    asyn bjlot ess  gds  gen hi_caudate ips_caudate   ptau quip  \\\n",
       "0  69.1397  1798.9    15   5    1    2       3.43        3.21   17.5    0   \n",
       "1  65.1425  1154.4    15   6    1    1          2           2  14.17    1   \n",
       "2  67.5781  3638.3    13  14    3    2       3.72        3.72  28.69    1   \n",
       "3  56.7178   654.5    13   8    1    2       3.63        3.63   9.21    0   \n",
       "4  59.4137  1082.1    13   6    0    1        5.3       5.195   8.77    0   \n",
       "\n",
       "   ...   tremor updrs1_score updrs2_score updrs3_score updrs_totscore upsit  \\\n",
       "0  ...        0            6            0            4             10    35   \n",
       "1  ...        2            8            2           12             22    25   \n",
       "2  ...        1            8           15           17             40    17   \n",
       "3  ...        3           12            6           29             47    23   \n",
       "4  ...        0            2            0            2              4    36   \n",
       "\n",
       "  urate VLTANIM VLTFRUIT VLTVEG  \n",
       "0   315      28       22     15  \n",
       "1   268      19       12     11  \n",
       "2   202      24       17     21  \n",
       "3   280      19       13     15  \n",
       "4   434      33       16     16  \n",
       "\n",
       "[5 rows x 26 columns]"
      ]
     },
     "execution_count": 165,
     "metadata": {},
     "output_type": "execute_result"
    }
   ],
   "source": [
    "cols = ['age','asyn','bjlot','ess','gds','gen','hi_caudate','ips_caudate','ptau','quip','rem','rigidity',\n",
    "    'scopa','SDMTOTAL','sft','tau','tremor','updrs1_score','updrs2_score','updrs3_score','updrs_totscore',\n",
    "   'upsit','urate','VLTANIM','VLTFRUIT','VLTVEG']\n",
    "X = df[cols]\n",
    "X.head()"
   ]
  },
  {
   "cell_type": "code",
   "execution_count": 167,
   "metadata": {},
   "outputs": [],
   "source": [
    "X = X.replace(['.',''],np.nan)\n",
    "X = X.apply(pd.to_numeric, errors='coerce')\n",
    "X.fillna(X.mean(), inplace=True)"
   ]
  },
  {
   "cell_type": "code",
   "execution_count": 168,
   "metadata": {},
   "outputs": [
    {
     "data": {
      "text/html": [
       "<div>\n",
       "<style scoped>\n",
       "    .dataframe tbody tr th:only-of-type {\n",
       "        vertical-align: middle;\n",
       "    }\n",
       "\n",
       "    .dataframe tbody tr th {\n",
       "        vertical-align: top;\n",
       "    }\n",
       "\n",
       "    .dataframe thead th {\n",
       "        text-align: right;\n",
       "    }\n",
       "</style>\n",
       "<table border=\"1\" class=\"dataframe\">\n",
       "  <thead>\n",
       "    <tr style=\"text-align: right;\">\n",
       "      <th></th>\n",
       "      <th>NHY</th>\n",
       "    </tr>\n",
       "  </thead>\n",
       "  <tbody>\n",
       "    <tr>\n",
       "      <th>0</th>\n",
       "      <td>0</td>\n",
       "    </tr>\n",
       "    <tr>\n",
       "      <th>1</th>\n",
       "      <td>1</td>\n",
       "    </tr>\n",
       "    <tr>\n",
       "      <th>2</th>\n",
       "      <td>2</td>\n",
       "    </tr>\n",
       "    <tr>\n",
       "      <th>3</th>\n",
       "      <td>2</td>\n",
       "    </tr>\n",
       "    <tr>\n",
       "      <th>4</th>\n",
       "      <td>0</td>\n",
       "    </tr>\n",
       "  </tbody>\n",
       "</table>\n",
       "</div>"
      ],
      "text/plain": [
       "  NHY\n",
       "0   0\n",
       "1   1\n",
       "2   2\n",
       "3   2\n",
       "4   0"
      ]
     },
     "execution_count": 168,
     "metadata": {},
     "output_type": "execute_result"
    }
   ],
   "source": [
    "y = df[['NHY']]\n",
    "y.head()"
   ]
  },
  {
   "cell_type": "code",
   "execution_count": 169,
   "metadata": {},
   "outputs": [
    {
     "data": {
      "text/plain": [
       "(array([638]),)"
      ]
     },
     "execution_count": 169,
     "metadata": {},
     "output_type": "execute_result"
    }
   ],
   "source": [
    "np.where(y['NHY']=='.')"
   ]
  },
  {
   "cell_type": "code",
   "execution_count": 170,
   "metadata": {},
   "outputs": [],
   "source": [
    "X=X.drop([638])\n",
    "y=y.drop([638])"
   ]
  },
  {
   "cell_type": "code",
   "execution_count": 173,
   "metadata": {},
   "outputs": [
    {
     "data": {
      "text/plain": [
       "0.7128873995137961"
      ]
     },
     "execution_count": 173,
     "metadata": {},
     "output_type": "execute_result"
    }
   ],
   "source": [
    "reg = LinearRegression()\n",
    "reg.fit(X, y)\n",
    "reg.score(X, y)"
   ]
  },
  {
   "cell_type": "code",
   "execution_count": 174,
   "metadata": {},
   "outputs": [
    {
     "data": {
      "text/plain": [
       "{('SDMTOTAL', 0.00319316397475879),\n",
       " ('VLTANIM', -0.0010686790578618485),\n",
       " ('VLTFRUIT', -0.0031776780943741905),\n",
       " ('VLTVEG', 0.0031555943248255643),\n",
       " ('age', -0.0003913670841192403),\n",
       " ('asyn', 2.840812659038576e-05),\n",
       " ('bjlot', 0.005229816079402011),\n",
       " ('ess', 0.009880185745222675),\n",
       " ('gds', -0.005035125242235917),\n",
       " ('gen', -0.004423236825949919),\n",
       " ('hi_caudate', -0.12234888899070247),\n",
       " ('ips_caudate', 0.008573443205162172),\n",
       " ('ptau', -0.015987592705543074),\n",
       " ('quip', 0.010288880044526504),\n",
       " ('rem', -0.004951179016767103),\n",
       " ('rigidity', -0.019618257645865732),\n",
       " ('scopa', 0.001941498729887134),\n",
       " ('sft', -0.0010907628274099178),\n",
       " ('tau', 0.0008045494306305338),\n",
       " ('tremor', 0.004454365142696614),\n",
       " ('updrs1_score', 0.021810189895021974),\n",
       " ('updrs2_score', 0.03594221013101293),\n",
       " ('updrs3_score', 0.07096915799946828),\n",
       " ('updrs_totscore', -0.019790487473772315),\n",
       " ('upsit', -0.008109551382285425),\n",
       " ('urate', -0.0002796117487920613)}"
      ]
     },
     "execution_count": 174,
     "metadata": {},
     "output_type": "execute_result"
    }
   ],
   "source": [
    "set(zip(cols,reg.coef_[0]))"
   ]
  }
 ],
 "metadata": {
  "kernelspec": {
   "display_name": "Python 3",
   "language": "python",
   "name": "python3"
  },
  "language_info": {
   "codemirror_mode": {
    "name": "ipython",
    "version": 3
   },
   "file_extension": ".py",
   "mimetype": "text/x-python",
   "name": "python",
   "nbconvert_exporter": "python",
   "pygments_lexer": "ipython3",
   "version": "3.5.3"
  }
 },
 "nbformat": 4,
 "nbformat_minor": 2
}
