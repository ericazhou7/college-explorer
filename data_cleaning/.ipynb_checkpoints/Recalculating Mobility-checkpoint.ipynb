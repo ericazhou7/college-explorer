{
 "cells": [
  {
   "cell_type": "code",
   "execution_count": 62,
   "metadata": {},
   "outputs": [],
   "source": [
    "import numpy as np\n",
    "import pandas as pd"
   ]
  },
  {
   "cell_type": "code",
   "execution_count": 63,
   "metadata": {
    "scrolled": true
   },
   "outputs": [
    {
     "data": {
      "text/html": [
       "<div>\n",
       "<style scoped>\n",
       "    .dataframe tbody tr th:only-of-type {\n",
       "        vertical-align: middle;\n",
       "    }\n",
       "\n",
       "    .dataframe tbody tr th {\n",
       "        vertical-align: top;\n",
       "    }\n",
       "\n",
       "    .dataframe thead th {\n",
       "        text-align: right;\n",
       "    }\n",
       "</style>\n",
       "<table border=\"1\" class=\"dataframe\">\n",
       "  <thead>\n",
       "    <tr style=\"text-align: right;\">\n",
       "      <th></th>\n",
       "      <th>super_opeid</th>\n",
       "      <th>name</th>\n",
       "      <th>type</th>\n",
       "      <th>tier</th>\n",
       "      <th>tier_name</th>\n",
       "      <th>iclevel</th>\n",
       "      <th>region</th>\n",
       "      <th>state</th>\n",
       "      <th>cz</th>\n",
       "      <th>czname</th>\n",
       "      <th>...</th>\n",
       "      <th>ktop1pc_cond_parq3</th>\n",
       "      <th>ktop1pc_cond_parq4</th>\n",
       "      <th>ktop1pc_cond_parq5</th>\n",
       "      <th>k_married_cond_parq1</th>\n",
       "      <th>k_married_cond_parq2</th>\n",
       "      <th>k_married_cond_parq3</th>\n",
       "      <th>k_married_cond_parq4</th>\n",
       "      <th>k_married_cond_parq5</th>\n",
       "      <th>shareimputed</th>\n",
       "      <th>imputed</th>\n",
       "    </tr>\n",
       "  </thead>\n",
       "  <tbody>\n",
       "    <tr>\n",
       "      <th>0</th>\n",
       "      <td>30955</td>\n",
       "      <td>ASA Institute Of Business &amp; Computer Technology</td>\n",
       "      <td>3.0</td>\n",
       "      <td>11</td>\n",
       "      <td>Two-year for-profit</td>\n",
       "      <td>2.0</td>\n",
       "      <td>1.0</td>\n",
       "      <td>NY</td>\n",
       "      <td>19400.0</td>\n",
       "      <td>New York</td>\n",
       "      <td>...</td>\n",
       "      <td>0.000695</td>\n",
       "      <td>0.002436</td>\n",
       "      <td>0.004147</td>\n",
       "      <td>0.148721</td>\n",
       "      <td>0.206470</td>\n",
       "      <td>0.192924</td>\n",
       "      <td>0.248386</td>\n",
       "      <td>0.292232</td>\n",
       "      <td>0.752727</td>\n",
       "      <td>1.0</td>\n",
       "    </tr>\n",
       "    <tr>\n",
       "      <th>1</th>\n",
       "      <td>3537</td>\n",
       "      <td>Abilene Christian University</td>\n",
       "      <td>2.0</td>\n",
       "      <td>6</td>\n",
       "      <td>Selective private</td>\n",
       "      <td>1.0</td>\n",
       "      <td>3.0</td>\n",
       "      <td>TX</td>\n",
       "      <td>32501.0</td>\n",
       "      <td>Abilene</td>\n",
       "      <td>...</td>\n",
       "      <td>0.017192</td>\n",
       "      <td>0.016095</td>\n",
       "      <td>0.043093</td>\n",
       "      <td>0.646505</td>\n",
       "      <td>0.659531</td>\n",
       "      <td>0.681037</td>\n",
       "      <td>0.730971</td>\n",
       "      <td>0.734346</td>\n",
       "      <td>0.000000</td>\n",
       "      <td>0.0</td>\n",
       "    </tr>\n",
       "    <tr>\n",
       "      <th>2</th>\n",
       "      <td>1541</td>\n",
       "      <td>Abraham Baldwin Agricultural College</td>\n",
       "      <td>1.0</td>\n",
       "      <td>7</td>\n",
       "      <td>Nonselective four-year public</td>\n",
       "      <td>1.0</td>\n",
       "      <td>3.0</td>\n",
       "      <td>GA</td>\n",
       "      <td>8503.0</td>\n",
       "      <td>Valdosta</td>\n",
       "      <td>...</td>\n",
       "      <td>0.002044</td>\n",
       "      <td>0.003664</td>\n",
       "      <td>0.013582</td>\n",
       "      <td>0.430635</td>\n",
       "      <td>0.496389</td>\n",
       "      <td>0.586084</td>\n",
       "      <td>0.697399</td>\n",
       "      <td>0.632628</td>\n",
       "      <td>0.000000</td>\n",
       "      <td>0.0</td>\n",
       "    </tr>\n",
       "    <tr>\n",
       "      <th>3</th>\n",
       "      <td>7531</td>\n",
       "      <td>Academy Of Art University</td>\n",
       "      <td>3.0</td>\n",
       "      <td>10</td>\n",
       "      <td>Four-year for-profit</td>\n",
       "      <td>1.0</td>\n",
       "      <td>4.0</td>\n",
       "      <td>CA</td>\n",
       "      <td>37800.0</td>\n",
       "      <td>San Francisco</td>\n",
       "      <td>...</td>\n",
       "      <td>0.003752</td>\n",
       "      <td>0.003042</td>\n",
       "      <td>0.025226</td>\n",
       "      <td>0.261822</td>\n",
       "      <td>0.294878</td>\n",
       "      <td>0.328916</td>\n",
       "      <td>0.374585</td>\n",
       "      <td>0.371681</td>\n",
       "      <td>0.000000</td>\n",
       "      <td>0.0</td>\n",
       "    </tr>\n",
       "    <tr>\n",
       "      <th>4</th>\n",
       "      <td>1345</td>\n",
       "      <td>Adams State University</td>\n",
       "      <td>1.0</td>\n",
       "      <td>5</td>\n",
       "      <td>Selective public</td>\n",
       "      <td>1.0</td>\n",
       "      <td>4.0</td>\n",
       "      <td>CO</td>\n",
       "      <td>34805.0</td>\n",
       "      <td>Alamosa</td>\n",
       "      <td>...</td>\n",
       "      <td>0.006516</td>\n",
       "      <td>0.003083</td>\n",
       "      <td>0.019142</td>\n",
       "      <td>0.489720</td>\n",
       "      <td>0.569590</td>\n",
       "      <td>0.565776</td>\n",
       "      <td>0.587638</td>\n",
       "      <td>0.607286</td>\n",
       "      <td>0.000000</td>\n",
       "      <td>0.0</td>\n",
       "    </tr>\n",
       "  </tbody>\n",
       "</table>\n",
       "<p>5 rows × 85 columns</p>\n",
       "</div>"
      ],
      "text/plain": [
       "   super_opeid                                             name  type  tier  \\\n",
       "0        30955  ASA Institute Of Business & Computer Technology   3.0    11   \n",
       "1         3537                     Abilene Christian University   2.0     6   \n",
       "2         1541             Abraham Baldwin Agricultural College   1.0     7   \n",
       "3         7531                        Academy Of Art University   3.0    10   \n",
       "4         1345                           Adams State University   1.0     5   \n",
       "\n",
       "                       tier_name  iclevel  region state       cz  \\\n",
       "0            Two-year for-profit      2.0     1.0    NY  19400.0   \n",
       "1              Selective private      1.0     3.0    TX  32501.0   \n",
       "2  Nonselective four-year public      1.0     3.0    GA   8503.0   \n",
       "3           Four-year for-profit      1.0     4.0    CA  37800.0   \n",
       "4               Selective public      1.0     4.0    CO  34805.0   \n",
       "\n",
       "          czname   ...     ktop1pc_cond_parq3 ktop1pc_cond_parq4  \\\n",
       "0       New York   ...               0.000695           0.002436   \n",
       "1        Abilene   ...               0.017192           0.016095   \n",
       "2       Valdosta   ...               0.002044           0.003664   \n",
       "3  San Francisco   ...               0.003752           0.003042   \n",
       "4        Alamosa   ...               0.006516           0.003083   \n",
       "\n",
       "   ktop1pc_cond_parq5  k_married_cond_parq1  k_married_cond_parq2  \\\n",
       "0            0.004147              0.148721              0.206470   \n",
       "1            0.043093              0.646505              0.659531   \n",
       "2            0.013582              0.430635              0.496389   \n",
       "3            0.025226              0.261822              0.294878   \n",
       "4            0.019142              0.489720              0.569590   \n",
       "\n",
       "   k_married_cond_parq3  k_married_cond_parq4  k_married_cond_parq5  \\\n",
       "0              0.192924              0.248386              0.292232   \n",
       "1              0.681037              0.730971              0.734346   \n",
       "2              0.586084              0.697399              0.632628   \n",
       "3              0.328916              0.374585              0.371681   \n",
       "4              0.565776              0.587638              0.607286   \n",
       "\n",
       "   shareimputed  imputed  \n",
       "0      0.752727      1.0  \n",
       "1      0.000000      0.0  \n",
       "2      0.000000      0.0  \n",
       "3      0.000000      0.0  \n",
       "4      0.000000      0.0  \n",
       "\n",
       "[5 rows x 85 columns]"
      ]
     },
     "execution_count": 63,
     "metadata": {},
     "output_type": "execute_result"
    }
   ],
   "source": [
    "df = pd.read_csv('mrc_table2.csv')\n",
    "df.head()"
   ]
  },
  {
   "cell_type": "code",
   "execution_count": 64,
   "metadata": {},
   "outputs": [
    {
     "data": {
      "text/plain": [
       "Index(['super_opeid', 'name', 'type', 'tier', 'tier_name', 'iclevel', 'region',\n",
       "       'state', 'cz', 'czname', 'cfips', 'county', 'multi', 'count', 'female',\n",
       "       'k_married', 'mr_kq5_pq1', 'mr_ktop1_pq1', 'par_mean', 'par_median',\n",
       "       'par_rank', 'par_q1', 'par_q2', 'par_q3', 'par_q4', 'par_q5',\n",
       "       'par_top10pc', 'par_top5pc', 'par_top1pc', 'par_toppt1pc', 'k_rank',\n",
       "       'k_mean', 'k_median', 'k_median_nozero', 'k_0inc', 'k_q1', 'k_q2',\n",
       "       'k_q3', 'k_q4', 'k_q5', 'k_top10pc', 'k_top5pc', 'k_top1pc',\n",
       "       'k_rank_cond_parq1', 'k_rank_cond_parq2', 'k_rank_cond_parq3',\n",
       "       'k_rank_cond_parq4', 'k_rank_cond_parq5', 'kq1_cond_parq1',\n",
       "       'kq2_cond_parq1', 'kq3_cond_parq1', 'kq4_cond_parq1', 'kq5_cond_parq1',\n",
       "       'kq1_cond_parq2', 'kq2_cond_parq2', 'kq3_cond_parq2', 'kq4_cond_parq2',\n",
       "       'kq5_cond_parq2', 'kq1_cond_parq3', 'kq2_cond_parq3', 'kq3_cond_parq3',\n",
       "       'kq4_cond_parq3', 'kq5_cond_parq3', 'kq1_cond_parq4', 'kq2_cond_parq4',\n",
       "       'kq3_cond_parq4', 'kq4_cond_parq4', 'kq5_cond_parq4', 'kq1_cond_parq5',\n",
       "       'kq2_cond_parq5', 'kq3_cond_parq5', 'kq4_cond_parq5', 'kq5_cond_parq5',\n",
       "       'ktop1pc_cond_parq1', 'ktop1pc_cond_parq2', 'ktop1pc_cond_parq3',\n",
       "       'ktop1pc_cond_parq4', 'ktop1pc_cond_parq5', 'k_married_cond_parq1',\n",
       "       'k_married_cond_parq2', 'k_married_cond_parq3', 'k_married_cond_parq4',\n",
       "       'k_married_cond_parq5', 'shareimputed', 'imputed'],\n",
       "      dtype='object')"
      ]
     },
     "execution_count": 64,
     "metadata": {},
     "output_type": "execute_result"
    }
   ],
   "source": [
    "df.columns"
   ]
  },
  {
   "cell_type": "code",
   "execution_count": 3,
   "metadata": {},
   "outputs": [],
   "source": [
    "#calculate mobility for each quintile as 5*q1+4*q2+3*q3+2*q2+1*q1"
   ]
  },
  {
   "cell_type": "code",
   "execution_count": 65,
   "metadata": {},
   "outputs": [],
   "source": [
    "q1 = 157700\n",
    "q2 = 84600\n",
    "q3 = 49700\n",
    "q4 = 27800\n",
    "q5 = 12100"
   ]
  },
  {
   "cell_type": "code",
   "execution_count": 66,
   "metadata": {},
   "outputs": [],
   "source": [
    "df['mr_q0'] = (q1-q3)*df['k_q1']+(q2-q3)*df['k_q2']+0*df['k_q3']+(q4-q3)*df['k_q4']+(q5-q3)*df['k_q5']\n",
    "df['mr_q1'] = 0*df['kq1_cond_parq1']+(q2-q1)*df['kq2_cond_parq1']+(q3-q1)*df['kq3_cond_parq1']+(q4-q1)*df['kq4_cond_parq1']+(q5-q1)*df['kq5_cond_parq1']\n",
    "df['mr_q2'] = (q1-q2)*df['kq1_cond_parq2']+0*df['kq2_cond_parq2']+(q3-q2)*df['kq3_cond_parq2']+(q4-q2)*df['kq4_cond_parq2']+(q5-q2)*df['kq5_cond_parq2']\n",
    "df['mr_q3'] = (q1-q3)*df['kq1_cond_parq3']+(q2-q3)*df['kq2_cond_parq3']+0*df['kq3_cond_parq3']+(q4-q3)*df['kq4_cond_parq3']+(q5-q3)*df['kq5_cond_parq3']\n",
    "df['mr_q4'] = (q1-q4)*df['kq1_cond_parq4']+(q2-q4)*df['kq2_cond_parq4']+(q3-q4)*df['kq3_cond_parq4']+0*df['kq4_cond_parq4']+(q5-q4)*df['kq5_cond_parq4']\n",
    "df['mr_q5'] = (q1-q5)*df['kq1_cond_parq5']+(q2-q5)*df['kq2_cond_parq5']+(q3-q5)*df['kq3_cond_parq5']+(q4-q5)*df['kq4_cond_parq5']+0*df['kq5_cond_parq5']"
   ]
  },
  {
   "cell_type": "code",
   "execution_count": 68,
   "metadata": {},
   "outputs": [],
   "source": [
    "df = df[['super_opeid','mr_q0','mr_q1','mr_q2','mr_q3','mr_q4','mr_q5']]"
   ]
  },
  {
   "cell_type": "code",
   "execution_count": 69,
   "metadata": {},
   "outputs": [
    {
     "data": {
      "text/html": [
       "<div>\n",
       "<style scoped>\n",
       "    .dataframe tbody tr th:only-of-type {\n",
       "        vertical-align: middle;\n",
       "    }\n",
       "\n",
       "    .dataframe tbody tr th {\n",
       "        vertical-align: top;\n",
       "    }\n",
       "\n",
       "    .dataframe thead th {\n",
       "        text-align: right;\n",
       "    }\n",
       "</style>\n",
       "<table border=\"1\" class=\"dataframe\">\n",
       "  <thead>\n",
       "    <tr style=\"text-align: right;\">\n",
       "      <th></th>\n",
       "      <th>super_opeid</th>\n",
       "      <th>mr_q0</th>\n",
       "      <th>mr_q1</th>\n",
       "      <th>mr_q2</th>\n",
       "      <th>mr_q3</th>\n",
       "      <th>mr_q4</th>\n",
       "      <th>mr_q5</th>\n",
       "    </tr>\n",
       "  </thead>\n",
       "  <tbody>\n",
       "    <tr>\n",
       "      <th>0</th>\n",
       "      <td>30955</td>\n",
       "      <td>21645.277711</td>\n",
       "      <td>-82710.360946</td>\n",
       "      <td>-15252.511259</td>\n",
       "      <td>20617.420397</td>\n",
       "      <td>35463.723690</td>\n",
       "      <td>46526.515768</td>\n",
       "    </tr>\n",
       "    <tr>\n",
       "      <th>1</th>\n",
       "      <td>3537</td>\n",
       "      <td>2816.608747</td>\n",
       "      <td>-110194.478785</td>\n",
       "      <td>-24683.712395</td>\n",
       "      <td>7179.398979</td>\n",
       "      <td>24743.048977</td>\n",
       "      <td>37572.592988</td>\n",
       "    </tr>\n",
       "    <tr>\n",
       "      <th>2</th>\n",
       "      <td>1541</td>\n",
       "      <td>7036.831381</td>\n",
       "      <td>-88270.439618</td>\n",
       "      <td>-24956.216154</td>\n",
       "      <td>4752.482616</td>\n",
       "      <td>23474.134635</td>\n",
       "      <td>41079.609155</td>\n",
       "    </tr>\n",
       "    <tr>\n",
       "      <th>3</th>\n",
       "      <td>7531</td>\n",
       "      <td>15706.857736</td>\n",
       "      <td>-82908.698862</td>\n",
       "      <td>-17799.595909</td>\n",
       "      <td>16620.617433</td>\n",
       "      <td>36545.106961</td>\n",
       "      <td>50824.766661</td>\n",
       "    </tr>\n",
       "    <tr>\n",
       "      <th>4</th>\n",
       "      <td>1345</td>\n",
       "      <td>5030.570251</td>\n",
       "      <td>-93860.606222</td>\n",
       "      <td>-27012.423973</td>\n",
       "      <td>2796.628093</td>\n",
       "      <td>26110.754030</td>\n",
       "      <td>37298.758747</td>\n",
       "    </tr>\n",
       "  </tbody>\n",
       "</table>\n",
       "</div>"
      ],
      "text/plain": [
       "   super_opeid         mr_q0          mr_q1         mr_q2         mr_q3  \\\n",
       "0        30955  21645.277711  -82710.360946 -15252.511259  20617.420397   \n",
       "1         3537   2816.608747 -110194.478785 -24683.712395   7179.398979   \n",
       "2         1541   7036.831381  -88270.439618 -24956.216154   4752.482616   \n",
       "3         7531  15706.857736  -82908.698862 -17799.595909  16620.617433   \n",
       "4         1345   5030.570251  -93860.606222 -27012.423973   2796.628093   \n",
       "\n",
       "          mr_q4         mr_q5  \n",
       "0  35463.723690  46526.515768  \n",
       "1  24743.048977  37572.592988  \n",
       "2  23474.134635  41079.609155  \n",
       "3  36545.106961  50824.766661  \n",
       "4  26110.754030  37298.758747  "
      ]
     },
     "execution_count": 69,
     "metadata": {},
     "output_type": "execute_result"
    }
   ],
   "source": [
    "df.head()"
   ]
  },
  {
   "cell_type": "code",
   "execution_count": 71,
   "metadata": {},
   "outputs": [
    {
     "data": {
      "text/plain": [
       "super_opeid    41519.000000\n",
       "mr_q0          43573.661553\n",
       "mr_q1         -38272.723541\n",
       "mr_q2          13943.284360\n",
       "mr_q3          51081.180886\n",
       "mr_q4          84911.863964\n",
       "mr_q5          94422.138930\n",
       "dtype: float64"
      ]
     },
     "execution_count": 71,
     "metadata": {},
     "output_type": "execute_result"
    }
   ],
   "source": [
    "df.max()"
   ]
  },
  {
   "cell_type": "code",
   "execution_count": 72,
   "metadata": {},
   "outputs": [
    {
     "data": {
      "text/plain": [
       "super_opeid       -99.000000\n",
       "mr_q0          -29279.424686\n",
       "mr_q1         -139997.172009\n",
       "mr_q2          -61304.104595\n",
       "mr_q3          -28608.139242\n",
       "mr_q4           -9311.490661\n",
       "mr_q5            8478.992852\n",
       "dtype: float64"
      ]
     },
     "execution_count": 72,
     "metadata": {},
     "output_type": "execute_result"
    }
   ],
   "source": [
    "df.min()"
   ]
  },
  {
   "cell_type": "code",
   "execution_count": 70,
   "metadata": {},
   "outputs": [
    {
     "data": {
      "text/plain": [
       "(2202, 7)"
      ]
     },
     "execution_count": 70,
     "metadata": {},
     "output_type": "execute_result"
    }
   ],
   "source": [
    "df.shape"
   ]
  },
  {
   "cell_type": "code",
   "execution_count": 73,
   "metadata": {},
   "outputs": [],
   "source": [
    "df = df.to_csv('college_mobility2.csv')"
   ]
  }
 ],
 "metadata": {
  "kernelspec": {
   "display_name": "Python 3",
   "language": "python",
   "name": "python3"
  },
  "language_info": {
   "codemirror_mode": {
    "name": "ipython",
    "version": 3
   },
   "file_extension": ".py",
   "mimetype": "text/x-python",
   "name": "python",
   "nbconvert_exporter": "python",
   "pygments_lexer": "ipython3",
   "version": "3.5.3"
  }
 },
 "nbformat": 4,
 "nbformat_minor": 2
}
